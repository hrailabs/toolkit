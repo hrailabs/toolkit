{
 "cells": [
  {
   "cell_type": "code",
   "execution_count": 2,
   "id": "f9c027ac-4352-4da6-a6d7-394eade3031c",
   "metadata": {
    "tags": []
   },
   "outputs": [],
   "source": [
    "import yaml\n",
    "import sys\n",
    "import os\n",
    "\n",
    "project_dir = os.path.abspath(os.path.join(os.getcwd(), '..'))\n",
    "sys.path.append(project_dir)\n",
    "import model as model\n",
    "\n",
    "config_fp = os.path.join(project_dir, \"config.yaml\")\n",
    "with open(config_fp) as f:\n",
    "    config = yaml.safe_load(f)\n",
    "    \n",
    "mod = model.Model(config)\n",
    "\n",
    "df_prep, tbl = mod.prep()\n",
    "\n",
    "df_result = mod.analysis(df_prep.copy(), tbl)"
   ]
  },
  {
   "cell_type": "code",
   "execution_count": 3,
   "id": "8c15a313-bfc9-44a9-9891-387ed56564be",
   "metadata": {
    "tags": []
   },
   "outputs": [
    {
     "data": {
      "text/html": [
       "<div>\n",
       "<style scoped>\n",
       "    .dataframe tbody tr th:only-of-type {\n",
       "        vertical-align: middle;\n",
       "    }\n",
       "\n",
       "    .dataframe tbody tr th {\n",
       "        vertical-align: top;\n",
       "    }\n",
       "\n",
       "    .dataframe thead th {\n",
       "        text-align: right;\n",
       "    }\n",
       "</style>\n",
       "<table border=\"1\" class=\"dataframe\">\n",
       "  <thead>\n",
       "    <tr style=\"text-align: right;\">\n",
       "      <th></th>\n",
       "      <th>test_result</th>\n",
       "      <th>phi_corr_coeff</th>\n",
       "      <th>phi_bins</th>\n",
       "      <th>four_fifths_test</th>\n",
       "      <th>result_desc</th>\n",
       "      <th>statistic</th>\n",
       "      <th>pvalue</th>\n",
       "      <th>alpha</th>\n",
       "      <th>dof</th>\n",
       "      <th>tbl_rows</th>\n",
       "      <th>tbl_cols</th>\n",
       "      <th>tbl</th>\n",
       "      <th>expected_freq</th>\n",
       "      <th>tbl_expected_diff</th>\n",
       "    </tr>\n",
       "  </thead>\n",
       "  <tbody>\n",
       "    <tr>\n",
       "      <th>0</th>\n",
       "      <td>Statistically significant result</td>\n",
       "      <td>0.39736</td>\n",
       "      <td>moderate</td>\n",
       "      <td>4/5ths Test passed at a ratio of: 1.0.</td>\n",
       "      <td>Testing for {'job_title': 'analyst'}, 4/5ths T...</td>\n",
       "      <td>5.218246</td>\n",
       "      <td>0.022351</td>\n",
       "      <td>0.05</td>\n",
       "      <td>1</td>\n",
       "      <td>[Female, Male]</td>\n",
       "      <td>[not_hired, hired]</td>\n",
       "      <td>[[10, 1], [15, 18]]</td>\n",
       "      <td>[[6.25, 4.75], [18.75, 14.25]]</td>\n",
       "      <td>[[3.75, -3.75], [-3.75, 3.75]]</td>\n",
       "    </tr>\n",
       "  </tbody>\n",
       "</table>\n",
       "</div>"
      ],
      "text/plain": [
       "                        test_result  phi_corr_coeff  phi_bins   \n",
       "0  Statistically significant result         0.39736  moderate  \\\n",
       "\n",
       "                         four_fifths_test   \n",
       "0  4/5ths Test passed at a ratio of: 1.0.  \\\n",
       "\n",
       "                                         result_desc  statistic    pvalue   \n",
       "0  Testing for {'job_title': 'analyst'}, 4/5ths T...   5.218246  0.022351  \\\n",
       "\n",
       "   alpha  dof        tbl_rows            tbl_cols                  tbl   \n",
       "0   0.05    1  [Female, Male]  [not_hired, hired]  [[10, 1], [15, 18]]  \\\n",
       "\n",
       "                    expected_freq               tbl_expected_diff  \n",
       "0  [[6.25, 4.75], [18.75, 14.25]]  [[3.75, -3.75], [-3.75, 3.75]]  "
      ]
     },
     "execution_count": 3,
     "metadata": {},
     "output_type": "execute_result"
    }
   ],
   "source": [
    "df_result"
   ]
  }
 ],
 "metadata": {
  "kernelspec": {
   "display_name": "hrailabs_dev",
   "language": "python",
   "name": "hrailabs"
  },
  "language_info": {
   "codemirror_mode": {
    "name": "ipython",
    "version": 3
   },
   "file_extension": ".py",
   "mimetype": "text/x-python",
   "name": "python",
   "nbconvert_exporter": "python",
   "pygments_lexer": "ipython3",
   "version": "3.11.0"
  }
 },
 "nbformat": 4,
 "nbformat_minor": 5
}
